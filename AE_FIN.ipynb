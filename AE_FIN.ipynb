{
 "cells": [
  {
   "cell_type": "code",
   "execution_count": 51,
   "metadata": {},
   "outputs": [],
   "source": [
    "from model.AE_FIN import AutoEncoder, train_model, loss_function\n",
    "from utils.dataprocess import PreprocessData\n",
    "from utils.EDAprocess import EDAProcess\n",
    "from utils.backtesting import kfoldCrossValidationBackTesting, WalkForwardBackTesting\n",
    "from utils.sharpe_ratio_stats import deflated_sharpe_ratio,\\\n",
    "                                     estimated_sharpe_ratio, ann_estimated_sharpe_ratio,\\\n",
    "                                    probabilistic_sharpe_ratio,\\\n",
    "                                    estimated_sharpe_ratio_stdev\\\n",
    "                                    \n",
    "import torch\n",
    "from torch import nn\n",
    "import pandas as pd\n",
    "device = torch.device('cuda' if torch.cuda.is_available() else 'cpu')"
   ]
  },
  {
   "cell_type": "code",
   "execution_count": 83,
   "metadata": {},
   "outputs": [],
   "source": [
    "def returns_to_equity(returns):\n",
    "    equity = returns.add(1).cumprod().sub(1)\n",
    "    return equity"
   ]
  },
  {
   "cell_type": "markdown",
   "metadata": {},
   "source": [
    "# Process Input Data"
   ]
  },
  {
   "cell_type": "code",
   "execution_count": 70,
   "metadata": {},
   "outputs": [],
   "source": [
    "df = pd.read_csv(\"./last_price.csv\")\n",
    "data_processing = PreprocessData(df)\n",
    "train_loader = data_processing.get_train_loader()"
   ]
  },
  {
   "cell_type": "markdown",
   "metadata": {},
   "source": [
    "### WalkForward BackTesting"
   ]
  },
  {
   "cell_type": "code",
   "execution_count": 3,
   "metadata": {},
   "outputs": [],
   "source": [
    "# WFBackTest = WalkForwardBackTesting(data_processing.data_norm, 5)\n",
    "# list_WFBT = WFBackTest.get_data_loader()"
   ]
  },
  {
   "cell_type": "markdown",
   "metadata": {},
   "source": [
    "### k-fold Cross Validation BackTesting"
   ]
  },
  {
   "cell_type": "code",
   "execution_count": 3,
   "metadata": {},
   "outputs": [],
   "source": [
    "kFCVBackTest = kfoldCrossValidationBackTesting(data_processing.data_norm, 5)\n",
    "list_kFCV = kFCVBackTest.get_data_loader()"
   ]
  },
  {
   "cell_type": "code",
   "execution_count": 4,
   "metadata": {},
   "outputs": [],
   "source": [
    "def test_model(model, test_loader):\n",
    "    model.eval()\n",
    "    loss_total = 0\n",
    "\n",
    "    data_list = []\n",
    "    target_list = []\n",
    "    batch = 0\n",
    "    for test_data in test_loader:\n",
    "        output = model.forward(test_data.to(device))\n",
    "\n",
    "        output_inv = data_processing.get_inverse_output(output)\n",
    "        test_data_inv = data_processing.get_inverse_output(test_data)\n",
    "        \n",
    "        test_data_inv = torch.tensor(test_data_inv)\n",
    "        output_inv = torch.tensor(output_inv)\n",
    "        \n",
    "        data_list.append(test_data_inv)\n",
    "        target_list.append(output_inv)\n",
    "\n",
    "        loss = loss_function(output, test_data.to(device), 83, False)\n",
    "        loss = loss.mean(dim=0)\n",
    "        \n",
    "        loss_total += loss\n",
    "        batch+=1\n",
    "    loss_total/=(batch+1)\n",
    "    \n",
    "    data_concatenated = torch.cat(data_list, dim=0)\n",
    "    target_concatenated = torch.cat(target_list, dim=0)\n",
    "\n",
    "    print(\"loss total: \", loss_total.mean())\n",
    "    \n",
    "    return data_concatenated, target_concatenated"
   ]
  },
  {
   "cell_type": "markdown",
   "metadata": {},
   "source": [
    "### Define Model"
   ]
  },
  {
   "cell_type": "code",
   "execution_count": null,
   "metadata": {},
   "outputs": [],
   "source": []
  },
  {
   "cell_type": "markdown",
   "metadata": {},
   "source": [
    "#  Training"
   ]
  },
  {
   "cell_type": "code",
   "execution_count": 19,
   "metadata": {},
   "outputs": [
    {
     "name": "stdout",
     "output_type": "stream",
     "text": [
      "----------------------------------------------------------------------------\n",
      "FOLD: 0\n",
      "*--****--*\n",
      "\n",
      "Training:\n",
      "\n"
     ]
    },
    {
     "name": "stderr",
     "output_type": "stream",
     "text": [
      "Epoch 0: 100%|██████████| 13/13 [00:00<00:00, 81.63 batch/s, loss=0.5619]\n",
      "Epoch 200: 100%|██████████| 13/13 [00:00<00:00, 135.24 batch/s, loss=0.0226]\n",
      "Epoch 400: 100%|██████████| 13/13 [00:00<00:00, 128.67 batch/s, loss=0.0138]\n",
      "Epoch 600: 100%|██████████| 13/13 [00:00<00:00, 114.57 batch/s, loss=0.0103]\n",
      "Epoch 800: 100%|██████████| 13/13 [00:00<00:00, 136.14 batch/s, loss=0.0139]\n",
      "Epoch 1000: 100%|██████████| 13/13 [00:00<00:00, 135.06 batch/s, loss=0.0082]\n",
      "Epoch 1200: 100%|██████████| 13/13 [00:00<00:00, 130.02 batch/s, loss=0.0077]\n",
      "Epoch 1400: 100%|██████████| 13/13 [00:00<00:00, 144.16 batch/s, loss=0.0068]\n",
      "Epoch 1600: 100%|██████████| 13/13 [00:00<00:00, 134.94 batch/s, loss=0.0076]\n"
     ]
    },
    {
     "name": "stdout",
     "output_type": "stream",
     "text": [
      "\n",
      "Testing:\n",
      "\n",
      "loss total:  tensor(0.1168, device='cuda:0', grad_fn=<MeanBackward0>)\n",
      "\n",
      "----------------------------------------------------------------------------\n",
      "FOLD: 1\n",
      "*--****--*\n",
      "\n",
      "Training:\n",
      "\n"
     ]
    },
    {
     "name": "stderr",
     "output_type": "stream",
     "text": [
      "Epoch 0: 100%|██████████| 13/13 [00:00<00:00, 132.41 batch/s, loss=0.5525]\n",
      "Epoch 200: 100%|██████████| 13/13 [00:00<00:00, 108.11 batch/s, loss=0.0181]\n",
      "Epoch 400: 100%|██████████| 13/13 [00:00<00:00, 141.55 batch/s, loss=0.0134]\n",
      "Epoch 600: 100%|██████████| 13/13 [00:00<00:00, 111.94 batch/s, loss=0.0095]\n",
      "Epoch 800: 100%|██████████| 13/13 [00:00<00:00, 147.64 batch/s, loss=0.0096]\n",
      "Epoch 1000: 100%|██████████| 13/13 [00:00<00:00, 106.00 batch/s, loss=0.0071]\n",
      "Epoch 1200: 100%|██████████| 13/13 [00:00<00:00, 144.38 batch/s, loss=0.008]\n",
      "Epoch 1400: 100%|██████████| 13/13 [00:00<00:00, 128.64 batch/s, loss=0.0079]\n",
      "Epoch 1600: 100%|██████████| 13/13 [00:00<00:00, 119.96 batch/s, loss=0.0089]\n"
     ]
    },
    {
     "name": "stdout",
     "output_type": "stream",
     "text": [
      "\n",
      "Testing:\n",
      "\n",
      "loss total:  tensor(0.0819, device='cuda:0', grad_fn=<MeanBackward0>)\n",
      "\n",
      "----------------------------------------------------------------------------\n",
      "FOLD: 2\n",
      "*--****--*\n",
      "\n",
      "Training:\n",
      "\n"
     ]
    },
    {
     "name": "stderr",
     "output_type": "stream",
     "text": [
      "Epoch 0: 100%|██████████| 13/13 [00:00<00:00, 110.95 batch/s, loss=0.5599]\n",
      "Epoch 200: 100%|██████████| 13/13 [00:00<00:00, 143.37 batch/s, loss=0.0182]\n",
      "Epoch 400: 100%|██████████| 13/13 [00:00<00:00, 127.22 batch/s, loss=0.0164]\n",
      "Epoch 600: 100%|██████████| 13/13 [00:00<00:00, 125.68 batch/s, loss=0.0082]\n",
      "Epoch 800: 100%|██████████| 13/13 [00:00<00:00, 147.44 batch/s, loss=0.0134]\n",
      "Epoch 1000: 100%|██████████| 13/13 [00:00<00:00, 138.45 batch/s, loss=0.0073]\n",
      "Epoch 1200: 100%|██████████| 13/13 [00:00<00:00, 115.43 batch/s, loss=0.0056]\n",
      "Epoch 1400: 100%|██████████| 13/13 [00:00<00:00, 143.97 batch/s, loss=0.0065]\n",
      "Epoch 1600: 100%|██████████| 13/13 [00:00<00:00, 145.44 batch/s, loss=0.0047]\n"
     ]
    },
    {
     "name": "stdout",
     "output_type": "stream",
     "text": [
      "\n",
      "Testing:\n",
      "\n",
      "loss total:  tensor(0.1023, device='cuda:0', grad_fn=<MeanBackward0>)\n",
      "\n",
      "----------------------------------------------------------------------------\n",
      "FOLD: 3\n",
      "*--****--*\n",
      "\n",
      "Training:\n",
      "\n"
     ]
    },
    {
     "name": "stderr",
     "output_type": "stream",
     "text": [
      "Epoch 0: 100%|██████████| 13/13 [00:00<00:00, 105.47 batch/s, loss=0.4389]\n",
      "Epoch 200: 100%|██████████| 13/13 [00:00<00:00, 142.76 batch/s, loss=0.0192]\n",
      "Epoch 400: 100%|██████████| 13/13 [00:00<00:00, 96.69 batch/s, loss=0.0097] \n",
      "Epoch 600: 100%|██████████| 13/13 [00:00<00:00, 127.05 batch/s, loss=0.0068]\n",
      "Epoch 800: 100%|██████████| 13/13 [00:00<00:00, 147.68 batch/s, loss=0.0085]\n",
      "Epoch 1000: 100%|██████████| 13/13 [00:00<00:00, 157.49 batch/s, loss=0.0082]\n",
      "Epoch 1200: 100%|██████████| 13/13 [00:00<00:00, 122.20 batch/s, loss=0.0081]\n",
      "Epoch 1400: 100%|██████████| 13/13 [00:00<00:00, 139.93 batch/s, loss=0.0076]\n",
      "Epoch 1600: 100%|██████████| 13/13 [00:00<00:00, 141.06 batch/s, loss=0.0054]\n"
     ]
    },
    {
     "name": "stdout",
     "output_type": "stream",
     "text": [
      "\n",
      "Testing:\n",
      "\n",
      "loss total:  tensor(0.1211, device='cuda:0', grad_fn=<MeanBackward0>)\n",
      "\n",
      "----------------------------------------------------------------------------\n",
      "FOLD: 4\n",
      "*--****--*\n",
      "\n",
      "Training:\n",
      "\n"
     ]
    },
    {
     "name": "stderr",
     "output_type": "stream",
     "text": [
      "Epoch 0: 100%|██████████| 13/13 [00:00<00:00, 150.41 batch/s, loss=0.574]\n",
      "Epoch 200: 100%|██████████| 13/13 [00:00<00:00, 111.74 batch/s, loss=0.0209]\n",
      "Epoch 400: 100%|██████████| 13/13 [00:00<00:00, 108.12 batch/s, loss=0.0144]\n",
      "Epoch 600: 100%|██████████| 13/13 [00:00<00:00, 112.81 batch/s, loss=0.0107]\n",
      "Epoch 800: 100%|██████████| 13/13 [00:00<00:00, 106.50 batch/s, loss=0.0082]\n",
      "Epoch 1000: 100%|██████████| 13/13 [00:00<00:00, 110.49 batch/s, loss=0.0084]\n",
      "Epoch 1200: 100%|██████████| 13/13 [00:00<00:00, 108.49 batch/s, loss=0.0147]\n",
      "Epoch 1400: 100%|██████████| 13/13 [00:00<00:00, 93.71 batch/s, loss=0.0102]\n",
      "Epoch 1600: 100%|██████████| 13/13 [00:00<00:00, 116.60 batch/s, loss=0.0075]"
     ]
    },
    {
     "name": "stdout",
     "output_type": "stream",
     "text": [
      "\n",
      "Testing:\n",
      "\n",
      "loss total:  tensor(0.1867, device='cuda:0', grad_fn=<MeanBackward0>)\n",
      "\n"
     ]
    },
    {
     "name": "stderr",
     "output_type": "stream",
     "text": [
      "\n"
     ]
    }
   ],
   "source": [
    "for i, data_loader in enumerate(list_kFCV):\n",
    "    print(\"----------------------------------------------------------------------------\")\n",
    "    print(\"FOLD:\", i)\n",
    "    print(\"*--****--*\")\n",
    "\n",
    "    model = AutoEncoder(act=nn.SiLU(inplace=True),dim_input=83, d=25).to(device)\n",
    "    optimizer = torch.optim.Adam(model.parameters(), lr=0.001, weight_decay=0.0001)\n",
    "    \n",
    "    print()\n",
    "    print(\"Training:\")\n",
    "    print()\n",
    "    train_model(model, optimizer, data_loader[0], 1600, skip=200)\n",
    "    torch.save(model, f\"weights/AE_FIN_FOLD_{i}.pt\")\n",
    "    print()\n",
    "    print(\"Testing:\")\n",
    "    print()\n",
    "    input_data, output_data = test_model(model, data_loader[1])\n",
    "\n",
    "    print()\n",
    "\n",
    "    "
   ]
  },
  {
   "cell_type": "markdown",
   "metadata": {},
   "source": [
    "### Save Model"
   ]
  },
  {
   "cell_type": "code",
   "execution_count": null,
   "metadata": {},
   "outputs": [],
   "source": [
    "torch.save(model, \"AE_FIN_test.pt\")"
   ]
  },
  {
   "cell_type": "markdown",
   "metadata": {},
   "source": [
    "### Load Model"
   ]
  },
  {
   "cell_type": "code",
   "execution_count": 36,
   "metadata": {},
   "outputs": [],
   "source": [
    "fold = 4"
   ]
  },
  {
   "cell_type": "code",
   "execution_count": 37,
   "metadata": {},
   "outputs": [
    {
     "data": {
      "text/plain": [
       "AutoEncoder(\n",
       "  (encoder): Sequential(\n",
       "    (0): Linear(in_features=83, out_features=50, bias=True)\n",
       "    (1): SiLU(inplace=True)\n",
       "    (2): Linear(in_features=50, out_features=25, bias=True)\n",
       "  )\n",
       "  (decoder): Sequential(\n",
       "    (0): Linear(in_features=25, out_features=50, bias=True)\n",
       "    (1): SiLU(inplace=True)\n",
       "    (2): Linear(in_features=50, out_features=83, bias=True)\n",
       "  )\n",
       ")"
      ]
     },
     "execution_count": 37,
     "metadata": {},
     "output_type": "execute_result"
    }
   ],
   "source": [
    "model = torch.load(f\"./weights/AE_FIN_FOLD_{fold}.pt\")\n",
    "model.eval()"
   ]
  },
  {
   "cell_type": "markdown",
   "metadata": {},
   "source": [
    "# Caculate Loss and EDA Processing"
   ]
  },
  {
   "cell_type": "code",
   "execution_count": 38,
   "metadata": {},
   "outputs": [
    {
     "name": "stdout",
     "output_type": "stream",
     "text": [
      "loss total:  tensor(0.1867, device='cuda:0', grad_fn=<MeanBackward0>)\n"
     ]
    }
   ],
   "source": [
    "input_data, output_data = test_model(model.to(device), list_kFCV[fold][1])"
   ]
  },
  {
   "cell_type": "markdown",
   "metadata": {},
   "source": [
    "### Process Output Data"
   ]
  },
  {
   "cell_type": "code",
   "execution_count": 39,
   "metadata": {},
   "outputs": [],
   "source": [
    "company_names = data_processing.company_names\n",
    "EDA_processing = EDAProcess(input_data, output_data, company_names)"
   ]
  },
  {
   "cell_type": "markdown",
   "metadata": {},
   "source": [
    "### Get min, max index"
   ]
  },
  {
   "cell_type": "code",
   "execution_count": 40,
   "metadata": {},
   "outputs": [
    {
     "name": "stdout",
     "output_type": "stream",
     "text": [
      "min loss: 5\n",
      "Company name: BMC\n",
      "\n",
      "max loss: 35\n",
      "Company name: SLS\n"
     ]
    }
   ],
   "source": [
    "min_index, max_index = EDA_processing.get_min_max_index()"
   ]
  },
  {
   "cell_type": "markdown",
   "metadata": {},
   "source": [
    "### Min loss Histogram"
   ]
  },
  {
   "cell_type": "code",
   "execution_count": 41,
   "metadata": {},
   "outputs": [
    {
     "name": "stdout",
     "output_type": "stream",
     "text": [
      "Min Loss\n",
      "TDV:  0.009293976239860058\n"
     ]
    },
    {
     "data": {
      "image/png": "[encoded data removed]",
      "text/plain": [
       "<Figure size 640x480 with 1 Axes>"
      ]
     },
     "metadata": {},
     "output_type": "display_data"
    }
   ],
   "source": [
    "print(\"Min Loss\")\n",
    "print(\"TDV: \", EDA_processing.get_TVD(min_index))\n",
    "EDA_processing.plot_histgram(\"min\")"
   ]
  },
  {
   "cell_type": "markdown",
   "metadata": {},
   "source": [
    "### Max loss Histogram"
   ]
  },
  {
   "cell_type": "code",
   "execution_count": 42,
   "metadata": {},
   "outputs": [
    {
     "name": "stdout",
     "output_type": "stream",
     "text": [
      "Max Loss\n",
      "TDV:  0.05431923270225525\n"
     ]
    },
    {
     "data": {
      "image/png": "[encoded data removed]",
      "text/plain": [
       "<Figure size 640x480 with 1 Axes>"
      ]
     },
     "metadata": {},
     "output_type": "display_data"
    }
   ],
   "source": [
    "print(\"Max Loss\")\n",
    "print(\"TDV: \", EDA_processing.get_TVD(max_index))\n",
    "EDA_processing.plot_histgram(\"max\")"
   ]
  },
  {
   "cell_type": "markdown",
   "metadata": {},
   "source": [
    "### Plot Side by Side Box"
   ]
  },
  {
   "cell_type": "code",
   "execution_count": 43,
   "metadata": {},
   "outputs": [],
   "source": [
    "df_iv = EDA_processing.get_interleaved_data()"
   ]
  },
  {
   "cell_type": "code",
   "execution_count": 45,
   "metadata": {},
   "outputs": [
    {
     "data": {
      "image/png": "[encoded data removed]",
      "text/plain": [
       "<Figure size 640x480 with 1 Axes>"
      ]
     },
     "metadata": {},
     "output_type": "display_data"
    }
   ],
   "source": [
    "EDA_processing.plot_side_by_side_box(df_iv, index_choose=\"max\")"
   ]
  },
  {
   "cell_type": "markdown",
   "metadata": {},
   "source": [
    "# Analyze results with PSR"
   ]
  },
  {
   "cell_type": "code",
   "execution_count": 91,
   "metadata": {},
   "outputs": [
    {
     "data": {
      "text/html": [
       "<div>\n",
       "<style scoped>\n",
       "    .dataframe tbody tr th:only-of-type {\n",
       "        vertical-align: middle;\n",
       "    }\n",
       "\n",
       "    .dataframe tbody tr th {\n",
       "        vertical-align: top;\n",
       "    }\n",
       "\n",
       "    .dataframe thead th {\n",
       "        text-align: right;\n",
       "    }\n",
       "</style>\n",
       "<table border=\"1\" class=\"dataframe\">\n",
       "  <thead>\n",
       "    <tr style=\"text-align: right;\">\n",
       "      <th></th>\n",
       "      <th>BCG</th>\n",
       "      <th>MSH</th>\n",
       "      <th>PVD</th>\n",
       "      <th>VND</th>\n",
       "      <th>KDC</th>\n",
       "      <th>BMC</th>\n",
       "      <th>ACB</th>\n",
       "      <th>HPG</th>\n",
       "      <th>MBB</th>\n",
       "      <th>ANV</th>\n",
       "      <th>...</th>\n",
       "      <th>SKG</th>\n",
       "      <th>SAB</th>\n",
       "      <th>STB</th>\n",
       "      <th>VNM</th>\n",
       "      <th>BMP</th>\n",
       "      <th>DHG</th>\n",
       "      <th>DCM</th>\n",
       "      <th>KDH</th>\n",
       "      <th>EIB</th>\n",
       "      <th>SHB</th>\n",
       "    </tr>\n",
       "    <tr>\n",
       "      <th>date</th>\n",
       "      <th></th>\n",
       "      <th></th>\n",
       "      <th></th>\n",
       "      <th></th>\n",
       "      <th></th>\n",
       "      <th></th>\n",
       "      <th></th>\n",
       "      <th></th>\n",
       "      <th></th>\n",
       "      <th></th>\n",
       "      <th></th>\n",
       "      <th></th>\n",
       "      <th></th>\n",
       "      <th></th>\n",
       "      <th></th>\n",
       "      <th></th>\n",
       "      <th></th>\n",
       "      <th></th>\n",
       "      <th></th>\n",
       "      <th></th>\n",
       "      <th></th>\n",
       "    </tr>\n",
       "  </thead>\n",
       "  <tbody>\n",
       "    <tr>\n",
       "      <th>2019-01-27</th>\n",
       "      <td>0.189465</td>\n",
       "      <td>0.000665</td>\n",
       "      <td>0.021422</td>\n",
       "      <td>0.026268</td>\n",
       "      <td>-0.068680</td>\n",
       "      <td>0.035495</td>\n",
       "      <td>0.012661</td>\n",
       "      <td>0.017720</td>\n",
       "      <td>0.067278</td>\n",
       "      <td>0.039432</td>\n",
       "      <td>...</td>\n",
       "      <td>-0.118985</td>\n",
       "      <td>-0.013834</td>\n",
       "      <td>0.067259</td>\n",
       "      <td>0.009083</td>\n",
       "      <td>-0.025884</td>\n",
       "      <td>0.024215</td>\n",
       "      <td>-0.044798</td>\n",
       "      <td>0.000407</td>\n",
       "      <td>0.078738</td>\n",
       "      <td>0.011333</td>\n",
       "    </tr>\n",
       "    <tr>\n",
       "      <th>2019-02-03</th>\n",
       "      <td>-0.001143</td>\n",
       "      <td>0.059573</td>\n",
       "      <td>0.038419</td>\n",
       "      <td>-0.002709</td>\n",
       "      <td>-0.035082</td>\n",
       "      <td>0.012624</td>\n",
       "      <td>0.000216</td>\n",
       "      <td>-0.035111</td>\n",
       "      <td>0.031098</td>\n",
       "      <td>-0.007416</td>\n",
       "      <td>...</td>\n",
       "      <td>-0.010952</td>\n",
       "      <td>-0.002632</td>\n",
       "      <td>0.016639</td>\n",
       "      <td>0.007192</td>\n",
       "      <td>-0.047832</td>\n",
       "      <td>0.000252</td>\n",
       "      <td>-0.026047</td>\n",
       "      <td>0.003884</td>\n",
       "      <td>0.052321</td>\n",
       "      <td>0.008207</td>\n",
       "    </tr>\n",
       "    <tr>\n",
       "      <th>2019-02-10</th>\n",
       "      <td>0.000000</td>\n",
       "      <td>0.000000</td>\n",
       "      <td>0.000000</td>\n",
       "      <td>0.000000</td>\n",
       "      <td>0.000000</td>\n",
       "      <td>0.000000</td>\n",
       "      <td>0.000000</td>\n",
       "      <td>0.000000</td>\n",
       "      <td>0.000000</td>\n",
       "      <td>0.000000</td>\n",
       "      <td>...</td>\n",
       "      <td>0.000000</td>\n",
       "      <td>0.000000</td>\n",
       "      <td>0.000000</td>\n",
       "      <td>0.000000</td>\n",
       "      <td>0.000000</td>\n",
       "      <td>0.000000</td>\n",
       "      <td>0.000000</td>\n",
       "      <td>0.000000</td>\n",
       "      <td>0.000000</td>\n",
       "      <td>0.000000</td>\n",
       "    </tr>\n",
       "    <tr>\n",
       "      <th>2019-02-17</th>\n",
       "      <td>0.010870</td>\n",
       "      <td>0.056224</td>\n",
       "      <td>0.033780</td>\n",
       "      <td>0.063552</td>\n",
       "      <td>0.015198</td>\n",
       "      <td>0.069812</td>\n",
       "      <td>0.036580</td>\n",
       "      <td>0.058859</td>\n",
       "      <td>0.021832</td>\n",
       "      <td>0.024748</td>\n",
       "      <td>...</td>\n",
       "      <td>0.025773</td>\n",
       "      <td>0.015983</td>\n",
       "      <td>0.062193</td>\n",
       "      <td>0.021184</td>\n",
       "      <td>0.068495</td>\n",
       "      <td>0.039130</td>\n",
       "      <td>0.007323</td>\n",
       "      <td>0.012605</td>\n",
       "      <td>0.079077</td>\n",
       "      <td>0.077646</td>\n",
       "    </tr>\n",
       "    <tr>\n",
       "      <th>2019-02-24</th>\n",
       "      <td>-0.054329</td>\n",
       "      <td>0.051593</td>\n",
       "      <td>0.044606</td>\n",
       "      <td>0.011747</td>\n",
       "      <td>0.033164</td>\n",
       "      <td>-0.001255</td>\n",
       "      <td>0.001253</td>\n",
       "      <td>0.070798</td>\n",
       "      <td>0.004185</td>\n",
       "      <td>0.006653</td>\n",
       "      <td>...</td>\n",
       "      <td>-0.007259</td>\n",
       "      <td>0.030722</td>\n",
       "      <td>-0.000770</td>\n",
       "      <td>0.046336</td>\n",
       "      <td>0.005386</td>\n",
       "      <td>0.119794</td>\n",
       "      <td>0.008217</td>\n",
       "      <td>0.019103</td>\n",
       "      <td>-0.039786</td>\n",
       "      <td>-0.019756</td>\n",
       "    </tr>\n",
       "    <tr>\n",
       "      <th>...</th>\n",
       "      <td>...</td>\n",
       "      <td>...</td>\n",
       "      <td>...</td>\n",
       "      <td>...</td>\n",
       "      <td>...</td>\n",
       "      <td>...</td>\n",
       "      <td>...</td>\n",
       "      <td>...</td>\n",
       "      <td>...</td>\n",
       "      <td>...</td>\n",
       "      <td>...</td>\n",
       "      <td>...</td>\n",
       "      <td>...</td>\n",
       "      <td>...</td>\n",
       "      <td>...</td>\n",
       "      <td>...</td>\n",
       "      <td>...</td>\n",
       "      <td>...</td>\n",
       "      <td>...</td>\n",
       "      <td>...</td>\n",
       "      <td>...</td>\n",
       "    </tr>\n",
       "    <tr>\n",
       "      <th>2023-11-19</th>\n",
       "      <td>0.046225</td>\n",
       "      <td>0.006983</td>\n",
       "      <td>0.014612</td>\n",
       "      <td>0.058976</td>\n",
       "      <td>0.002537</td>\n",
       "      <td>0.057021</td>\n",
       "      <td>0.020973</td>\n",
       "      <td>0.024298</td>\n",
       "      <td>0.014925</td>\n",
       "      <td>0.037487</td>\n",
       "      <td>...</td>\n",
       "      <td>0.027477</td>\n",
       "      <td>-0.025714</td>\n",
       "      <td>0.008130</td>\n",
       "      <td>-0.013861</td>\n",
       "      <td>0.036031</td>\n",
       "      <td>-0.001904</td>\n",
       "      <td>0.023982</td>\n",
       "      <td>0.038148</td>\n",
       "      <td>0.043430</td>\n",
       "      <td>0.022482</td>\n",
       "    </tr>\n",
       "    <tr>\n",
       "      <th>2023-11-26</th>\n",
       "      <td>0.002776</td>\n",
       "      <td>0.037655</td>\n",
       "      <td>0.002954</td>\n",
       "      <td>0.042501</td>\n",
       "      <td>-0.000316</td>\n",
       "      <td>0.013486</td>\n",
       "      <td>-0.020542</td>\n",
       "      <td>-0.012973</td>\n",
       "      <td>-0.020697</td>\n",
       "      <td>0.013382</td>\n",
       "      <td>...</td>\n",
       "      <td>0.009148</td>\n",
       "      <td>-0.004453</td>\n",
       "      <td>-0.031586</td>\n",
       "      <td>-0.009753</td>\n",
       "      <td>0.008918</td>\n",
       "      <td>-0.010109</td>\n",
       "      <td>0.018608</td>\n",
       "      <td>-0.003775</td>\n",
       "      <td>-0.005870</td>\n",
       "      <td>-0.021108</td>\n",
       "    </tr>\n",
       "    <tr>\n",
       "      <th>2023-12-03</th>\n",
       "      <td>-0.014302</td>\n",
       "      <td>0.007015</td>\n",
       "      <td>0.027614</td>\n",
       "      <td>-0.018276</td>\n",
       "      <td>-0.009810</td>\n",
       "      <td>-0.022621</td>\n",
       "      <td>-0.020973</td>\n",
       "      <td>0.002253</td>\n",
       "      <td>-0.011123</td>\n",
       "      <td>-0.028062</td>\n",
       "      <td>...</td>\n",
       "      <td>-0.025802</td>\n",
       "      <td>0.039617</td>\n",
       "      <td>-0.039903</td>\n",
       "      <td>-0.012746</td>\n",
       "      <td>-0.035888</td>\n",
       "      <td>-0.005010</td>\n",
       "      <td>-0.005039</td>\n",
       "      <td>-0.010713</td>\n",
       "      <td>-0.022544</td>\n",
       "      <td>-0.027853</td>\n",
       "    </tr>\n",
       "    <tr>\n",
       "      <th>2023-12-10</th>\n",
       "      <td>0.097824</td>\n",
       "      <td>0.025943</td>\n",
       "      <td>0.027589</td>\n",
       "      <td>0.066348</td>\n",
       "      <td>-0.003516</td>\n",
       "      <td>0.030633</td>\n",
       "      <td>0.016864</td>\n",
       "      <td>0.031472</td>\n",
       "      <td>0.019685</td>\n",
       "      <td>0.063512</td>\n",
       "      <td>...</td>\n",
       "      <td>0.050823</td>\n",
       "      <td>-0.000922</td>\n",
       "      <td>0.018070</td>\n",
       "      <td>0.005869</td>\n",
       "      <td>0.051930</td>\n",
       "      <td>-0.001549</td>\n",
       "      <td>0.039880</td>\n",
       "      <td>0.021026</td>\n",
       "      <td>0.035695</td>\n",
       "      <td>0.018484</td>\n",
       "    </tr>\n",
       "    <tr>\n",
       "      <th>2023-12-17</th>\n",
       "      <td>-0.034321</td>\n",
       "      <td>-0.014435</td>\n",
       "      <td>-0.032775</td>\n",
       "      <td>-0.025515</td>\n",
       "      <td>0.004169</td>\n",
       "      <td>-0.012550</td>\n",
       "      <td>0.008068</td>\n",
       "      <td>-0.007265</td>\n",
       "      <td>-0.001103</td>\n",
       "      <td>-0.002874</td>\n",
       "      <td>...</td>\n",
       "      <td>0.008174</td>\n",
       "      <td>-0.014765</td>\n",
       "      <td>-0.023784</td>\n",
       "      <td>0.003792</td>\n",
       "      <td>-0.012014</td>\n",
       "      <td>-0.025019</td>\n",
       "      <td>-0.018259</td>\n",
       "      <td>-0.032453</td>\n",
       "      <td>-0.005832</td>\n",
       "      <td>-0.006352</td>\n",
       "    </tr>\n",
       "  </tbody>\n",
       "</table>\n",
       "<p>256 rows × 83 columns</p>\n",
       "</div>"
      ],
      "text/plain": [
       "                 BCG       MSH       PVD       VND       KDC       BMC  \\\n",
       "date                                                                     \n",
       "2019-01-27  0.189465  0.000665  0.021422  0.026268 -0.068680  0.035495   \n",
       "2019-02-03 -0.001143  0.059573  0.038419 -0.002709 -0.035082  0.012624   \n",
       "2019-02-10  0.000000  0.000000  0.000000  0.000000  0.000000  0.000000   \n",
       "2019-02-17  0.010870  0.056224  0.033780  0.063552  0.015198  0.069812   \n",
       "2019-02-24 -0.054329  0.051593  0.044606  0.011747  0.033164 -0.001255   \n",
       "...              ...       ...       ...       ...       ...       ...   \n",
       "2023-11-19  0.046225  0.006983  0.014612  0.058976  0.002537  0.057021   \n",
       "2023-11-26  0.002776  0.037655  0.002954  0.042501 -0.000316  0.013486   \n",
       "2023-12-03 -0.014302  0.007015  0.027614 -0.018276 -0.009810 -0.022621   \n",
       "2023-12-10  0.097824  0.025943  0.027589  0.066348 -0.003516  0.030633   \n",
       "2023-12-17 -0.034321 -0.014435 -0.032775 -0.025515  0.004169 -0.012550   \n",
       "\n",
       "                 ACB       HPG       MBB       ANV  ...       SKG       SAB  \\\n",
       "date                                                ...                       \n",
       "2019-01-27  0.012661  0.017720  0.067278  0.039432  ... -0.118985 -0.013834   \n",
       "2019-02-03  0.000216 -0.035111  0.031098 -0.007416  ... -0.010952 -0.002632   \n",
       "2019-02-10  0.000000  0.000000  0.000000  0.000000  ...  0.000000  0.000000   \n",
       "2019-02-17  0.036580  0.058859  0.021832  0.024748  ...  0.025773  0.015983   \n",
       "2019-02-24  0.001253  0.070798  0.004185  0.006653  ... -0.007259  0.030722   \n",
       "...              ...       ...       ...       ...  ...       ...       ...   \n",
       "2023-11-19  0.020973  0.024298  0.014925  0.037487  ...  0.027477 -0.025714   \n",
       "2023-11-26 -0.020542 -0.012973 -0.020697  0.013382  ...  0.009148 -0.004453   \n",
       "2023-12-03 -0.020973  0.002253 -0.011123 -0.028062  ... -0.025802  0.039617   \n",
       "2023-12-10  0.016864  0.031472  0.019685  0.063512  ...  0.050823 -0.000922   \n",
       "2023-12-17  0.008068 -0.007265 -0.001103 -0.002874  ...  0.008174 -0.014765   \n",
       "\n",
       "                 STB       VNM       BMP       DHG       DCM       KDH  \\\n",
       "date                                                                     \n",
       "2019-01-27  0.067259  0.009083 -0.025884  0.024215 -0.044798  0.000407   \n",
       "2019-02-03  0.016639  0.007192 -0.047832  0.000252 -0.026047  0.003884   \n",
       "2019-02-10  0.000000  0.000000  0.000000  0.000000  0.000000  0.000000   \n",
       "2019-02-17  0.062193  0.021184  0.068495  0.039130  0.007323  0.012605   \n",
       "2019-02-24 -0.000770  0.046336  0.005386  0.119794  0.008217  0.019103   \n",
       "...              ...       ...       ...       ...       ...       ...   \n",
       "2023-11-19  0.008130 -0.013861  0.036031 -0.001904  0.023982  0.038148   \n",
       "2023-11-26 -0.031586 -0.009753  0.008918 -0.010109  0.018608 -0.003775   \n",
       "2023-12-03 -0.039903 -0.012746 -0.035888 -0.005010 -0.005039 -0.010713   \n",
       "2023-12-10  0.018070  0.005869  0.051930 -0.001549  0.039880  0.021026   \n",
       "2023-12-17 -0.023784  0.003792 -0.012014 -0.025019 -0.018259 -0.032453   \n",
       "\n",
       "                 EIB       SHB  \n",
       "date                            \n",
       "2019-01-27  0.078738  0.011333  \n",
       "2019-02-03  0.052321  0.008207  \n",
       "2019-02-10  0.000000  0.000000  \n",
       "2019-02-17  0.079077  0.077646  \n",
       "2019-02-24 -0.039786 -0.019756  \n",
       "...              ...       ...  \n",
       "2023-11-19  0.043430  0.022482  \n",
       "2023-11-26 -0.005870 -0.021108  \n",
       "2023-12-03 -0.022544 -0.027853  \n",
       "2023-12-10  0.035695  0.018484  \n",
       "2023-12-17 -0.005832 -0.006352  \n",
       "\n",
       "[256 rows x 83 columns]"
      ]
     },
     "execution_count": 91,
     "metadata": {},
     "output_type": "execute_result"
    }
   ],
   "source": [
    "returns = df.set_index(\"date\").pct_change().dropna()\n",
    "returns"
   ]
  },
  {
   "cell_type": "markdown",
   "metadata": {},
   "source": [
    "### Calculate the annualized estimated sharpe ratio"
   ]
  },
  {
   "cell_type": "code",
   "execution_count": 92,
   "metadata": {},
   "outputs": [
    {
     "data": {
      "text/plain": [
       "FPT    1.667204\n",
       "DGC    1.339684\n",
       "HAH    1.180229\n",
       "VND    1.064720\n",
       "KDC    1.055580\n",
       "         ...   \n",
       "VNM   -0.217476\n",
       "SAB   -0.273236\n",
       "BVH   -0.319855\n",
       "VIC   -0.387509\n",
       "VNG   -0.505050\n",
       "Length: 83, dtype: float64"
      ]
     },
     "execution_count": 92,
     "metadata": {},
     "output_type": "execute_result"
    }
   ],
   "source": [
    "ann_best_srs = ann_estimated_sharpe_ratio(returns, 52).sort_values(ascending=False)\n",
    "ann_best_srs"
   ]
  },
  {
   "cell_type": "markdown",
   "metadata": {},
   "source": [
    "### Calculate the Probabilistic Sharpe Ratio (PSR)"
   ]
  },
  {
   "cell_type": "code",
   "execution_count": 94,
   "metadata": {},
   "outputs": [
    {
     "data": {
      "text/plain": [
       "FPT    0.999887\n",
       "DGC    0.998590\n",
       "KDC    0.996651\n",
       "HAH    0.995318\n",
       "VND    0.990699\n",
       "         ...   \n",
       "VNM    0.315734\n",
       "SAB    0.275800\n",
       "BVH    0.238544\n",
       "VIC    0.198733\n",
       "VNG    0.134250\n",
       "Length: 83, dtype: float64"
      ]
     },
     "execution_count": 94,
     "metadata": {},
     "output_type": "execute_result"
    }
   ],
   "source": [
    "probabilistic_sharpe_ratio(returns=returns, sr_benchmark=0).sort_values(ascending=False)"
   ]
  },
  {
   "cell_type": "markdown",
   "metadata": {},
   "source": [
    "### Calculate best Probabilistic Sharpe Ratio (PSR)"
   ]
  },
  {
   "cell_type": "code",
   "execution_count": 95,
   "metadata": {},
   "outputs": [
    {
     "data": {
      "text/plain": [
       "'FPT'"
      ]
     },
     "execution_count": 95,
     "metadata": {},
     "output_type": "execute_result"
    }
   ],
   "source": [
    "best_psr_pf_name = probabilistic_sharpe_ratio(returns=returns, sr_benchmark=0).sort_values(ascending=False).index[0]\n",
    "best_psr_pf_returns = returns[best_psr_pf_name]\n",
    "\n",
    "best_psr_pf_name"
   ]
  },
  {
   "cell_type": "code",
   "execution_count": 96,
   "metadata": {},
   "outputs": [
    {
     "data": {
      "text/plain": [
       "<Axes: xlabel='date'>"
      ]
     },
     "execution_count": 96,
     "metadata": {},
     "output_type": "execute_result"
    },
    {
     "data": {
      "image/png": "[encoded data removed]",
      "text/plain": [
       "<Figure size 640x480 with 1 Axes>"
      ]
     },
     "metadata": {},
     "output_type": "display_data"
    }
   ],
   "source": [
    "returns_to_equity(best_psr_pf_returns).plot()"
   ]
  },
  {
   "cell_type": "markdown",
   "metadata": {},
   "source": [
    "### Calculate the Deflated Sharpe Ratio (DSR)."
   ]
  },
  {
   "cell_type": "code",
   "execution_count": 98,
   "metadata": {},
   "outputs": [
    {
     "data": {
      "text/plain": [
       "0.9494998092416491"
      ]
     },
     "execution_count": 98,
     "metadata": {},
     "output_type": "execute_result"
    }
   ],
   "source": [
    "dsr = deflated_sharpe_ratio(trials_returns=returns, returns_selected=best_psr_pf_returns)\n",
    "dsr"
   ]
  }
 ],
 "metadata": {
  "kernelspec": {
   "display_name": "cv_research",
   "language": "python",
   "name": "python3"
  },
  "language_info": {
   "codemirror_mode": {
    "name": "ipython",
    "version": 3
   },
   "file_extension": ".py",
   "mimetype": "text/x-python",
   "name": "python",
   "nbconvert_exporter": "python",
   "pygments_lexer": "ipython3",
   "version": "3.9.16"
  }
 },
 "nbformat": 4,
 "nbformat_minor": 2
}
